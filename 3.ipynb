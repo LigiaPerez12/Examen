{
 "cells": [
  {
   "cell_type": "code",
   "execution_count": 1,
   "metadata": {},
   "outputs": [],
   "source": [
    "import pandas as pd\n",
    "from bs4 import BeautifulSoup\n",
    "import requests\n",
    "import time\n",
    "import pymongo\n",
    "import json\n",
    "from facebook_scraper import get_posts"
   ]
  },
  {
   "cell_type": "code",
   "execution_count": 15,
   "metadata": {},
   "outputs": [],
   "source": [
    "e=[]\n",
    "\n",
    "for post in get_posts('nintendo', pages=2): \n",
    "    text = post['text'];\n",
    "    likes = post['likes'];\n",
    "    image = post['image'];\n",
    "    comments = post['comments'];\n",
    "    data = {\n",
    "    'text' : text, 'image' : image,\n",
    "    'likes': likes,'comments': comments}\n",
    "    e.append(data) "
   ]
  },
  {
   "cell_type": "code",
   "execution_count": 16,
   "metadata": {},
   "outputs": [],
   "source": [
    "URI_CONNECTION = 'mongodb://localhost:27017'\n",
    "MONGODB_DATABASE = 'news'"
   ]
  },
  {
   "cell_type": "code",
   "execution_count": 17,
   "metadata": {},
   "outputs": [
    {
     "name": "stdout",
     "output_type": "stream",
     "text": [
      "Conectado a mongoDb: localhost\n"
     ]
    }
   ],
   "source": [
    "try:\n",
    "    client = pymongo.MongoClient(URI_CONNECTION, serverSelectionTimeoutMS=100000, maxPoolSize=10)\n",
    "    client.server_info()\n",
    "    print ('Conectado a mongoDb: %s' % ('localhost'))\n",
    "except pymongo.errors.ServerSelectionTimeoutError as error:\n",
    "    print ('Error de conexion: %s' % error)\n",
    "except pymongo.errors.ConnectionFailure as error:\n",
    "    print ('No se puede conectar: %s' % error)"
   ]
  },
  {
   "cell_type": "code",
   "execution_count": 9,
   "metadata": {},
   "outputs": [
    {
     "name": "stdout",
     "output_type": "stream",
     "text": [
      "Datos guardados facebook ingresados en news base de datos: {'text': 'A king returns. All he touches turns to ruin.\\n\\nWatch in high res: https://youtu.be/8PbhGt8XxSM', 'image': None, 'likes': 28494, 'comments': 2996, '_id': ObjectId('600650b5d4f2e75f136928be')}\n",
      "Datos guardados facebook ingresados en news base de datos: {'text': '🎨Season Start 2021 Fan Art Contest!🎨\\n\\n📣Calling all artists! Show off your favorite Champs and characters from across the League Universe for a chance to win an iPad and Apple Pencil!\\nMore details: riot.com/3nNE7D8', 'image': 'https://scontent.fuio16-1.fna.fbcdn.net/v/t1.0-9/fr/cp0/e15/q65/139506286_10164950279480556_3414483224984556667_o.jpg?_nc_cat=1&ccb=2&_nc_sid=2d5d41&_nc_ohc=r5n8ZBB4D8AAX_eD6iB&_nc_ht=scontent.fuio16-1.fna&tp=14&oh=232d36b61a99e338ab49e1c3cfa55799&oe=602D39CF', 'likes': 2164, 'comments': 225, '_id': ObjectId('600650b6d4f2e75f136928bf')}\n",
      "Datos guardados facebook ingresados en news base de datos: {'text': '💀Ruined splash art for Karma, Draven, and Shyvana!', 'image': 'https://scontent.fuio16-1.fna.fbcdn.net/v/t1.0-9/fr/cp0/e15/q65/139332703_10164936646860556_7046966354047278499_o.jpg?_nc_cat=100&ccb=2&_nc_sid=8024bb&_nc_ohc=-OFDmjRBFmUAX8K01vX&_nc_ht=scontent.fuio16-1.fna&tp=14&oh=e25295d6a5abaf0506b43d782993253c&oe=602D426F', 'likes': 11864, 'comments': 645, '_id': ObjectId('600650b6d4f2e75f136928c0')}\n",
      "Datos guardados facebook ingresados en news base de datos: {'text': 'Fight as five. Win as one.\\n\\nCompete for the Shadow Isles Cup Jan. 16 and 17th!🏆\\nFind info here: riot.com/35DTLKY', 'image': 'https://scontent.fuio16-1.fna.fbcdn.net/v/t1.0-9/fr/cp0/e15/q65/139177888_10164932767130556_8079444381113444161_o.jpg?_nc_cat=102&ccb=2&_nc_sid=2d5d41&_nc_ohc=aHyKvAYcwWAAX-8kCcx&_nc_ht=scontent.fuio16-1.fna&tp=14&oh=0008a7b377c97ff97dff506999eb7c6f&oe=602B778E', 'likes': 5544, 'comments': 281, '_id': ObjectId('600650b6d4f2e75f136928c1')}\n",
      "Datos guardados facebook ingresados en news base de datos: {'text': \"🔥Shan Hai Scrolls splash art for Nautilus, Cho'Gath, Jhin, and Neeko!\", 'image': 'https://scontent.fuio16-1.fna.fbcdn.net/v/t1.0-9/fr/cp0/e15/q65/138773386_10164928262460556_7847595692548786164_o.jpg?_nc_cat=101&ccb=2&_nc_sid=8024bb&_nc_ohc=Bw3NulLTQJkAX_5YLBQ&_nc_ht=scontent.fuio16-1.fna&tp=14&oh=b9399be914769983feab5ac66d1c630f&oe=602CE97A', 'likes': 9359, 'comments': 578, '_id': ObjectId('600650b6d4f2e75f136928c2')}\n",
      "Datos guardados facebook ingresados en news base de datos: {'text': 'Have you cast your vote? Head to the client and vote for your picks in each category:\\n☑️VGU Voting\\n☑️Thematic Voting\\n\\n❗Voting ends Jan. 19th at 11:59pm PT\\n-----\\nVGU Category:\\n🐅Udyr\\n🦅Quinn\\n🐉Shyvana\\n😱Nocturne\\n🦂Skarner\\n\\nThematic Category:\\n👹Monster Tamers\\n🌆Crime City Nightmare\\n🤵Debonair 2.0', 'image': 'https://scontent.fuio16-1.fna.fbcdn.net/v/t1.0-9/fr/cp0/e15/q65/138409045_10164922945555556_5614546520486538901_o.jpg?_nc_cat=101&ccb=2&_nc_sid=2d5d41&_nc_ohc=_1wdPSIUENcAX_IJnTa&_nc_ht=scontent.fuio16-1.fna&tp=14&oh=d7a83b9408be5d63118feea375e7933a&oe=602AAAF8', 'likes': 3974, 'comments': 811, '_id': ObjectId('600650b6d4f2e75f136928c3')}\n",
      "Datos guardados facebook ingresados en news base de datos: {'text': \"Which is your Mundo Mood?😈👹\\nICYMI: Find out the latest on Mundo's VGU Devblog here👉 riot.com/3q30FkQ\", 'image': 'https://scontent.fuio16-1.fna.fbcdn.net/v/t1.0-9/fr/cp0/e15/q65/138259847_10164918804250556_1418169191279435655_o.jpg?_nc_cat=101&ccb=2&_nc_sid=2d5d41&_nc_ohc=wIRFTEaLLIQAX-jq5zf&_nc_ht=scontent.fuio16-1.fna&tp=14&oh=889c97bc63cca61b9948a9b4215ae42e&oe=602B4210', 'likes': 17177, 'comments': 1539, '_id': ObjectId('600650b6d4f2e75f136928c4')}\n",
      "Datos guardados facebook ingresados en news base de datos: {'text': 'Viego, The Ruined King\\nLearn more about his mist-commanding, death-dominating abilities here: https://riot.com/3nsiMio', 'image': None, 'likes': 2528, 'comments': 341, '_id': ObjectId('600650b6d4f2e75f136928c5')}\n",
      "Datos guardados facebook ingresados en news base de datos: {'text': \"Season 2021 opening weekend.👊 LET'S GO!\", 'image': 'https://scontent.fuio16-1.fna.fbcdn.net/v/t1.0-9/fr/cp0/e15/q65/137573592_10164910472320556_5138328422024797547_o.jpg?_nc_cat=111&ccb=2&_nc_sid=2d5d41&_nc_ohc=G_WRTNR7MtMAX-3Fsa2&_nc_ht=scontent.fuio16-1.fna&tp=14&oh=118cc16ef0bdbf9933e4550c47f782f3&oe=6029F07F', 'likes': 16160, 'comments': 491, '_id': ObjectId('600650b6d4f2e75f136928c6')}\n",
      "Datos guardados facebook ingresados en news base de datos: {'text': 'Start the season with unique missions and rewards across League!🏆 GLHF and see you on the Rift!', 'image': 'https://scontent.fuio16-1.fna.fbcdn.net/v/t1.0-9/fr/cp0/e15/q65/137505682_10164909909130556_6679058879685082659_o.jpg?_nc_cat=102&ccb=2&_nc_sid=2d5d41&_nc_ohc=oZU0u5qaQFEAX8QB6Tp&_nc_ht=scontent.fuio16-1.fna&tp=14&oh=66b64b48cecf4c72747fc34070e0f55f&oe=6029F6EE', 'likes': 3684, 'comments': 142, '_id': ObjectId('600650b6d4f2e75f136928c7')}\n",
      "Datos guardados facebook ingresados en news base de datos: {'text': '🎊Season 2021 Opening Day!🎊 Livestream happening NOW!\\n\\nYOUTUBE.COM\\nSeason 2021 Opening Day | Full Livestream - League of Legends', 'image': None, 'likes': 999, 'comments': 158, '_id': ObjectId('600650b6d4f2e75f136928c8')}\n",
      "Datos guardados facebook ingresados en news base de datos: {'text': '💥Season 2021 is underway!💥 Livestream:▶️ youtu.be/rnFRcjzhTzE', 'image': 'https://scontent.fuio16-1.fna.fbcdn.net/v/t1.0-9/fr/cp0/e15/q65/137103493_10164905070270556_4558170803012960501_o.jpg?_nc_cat=101&ccb=2&_nc_sid=dd9801&_nc_ohc=Zoug7Svt8SQAX-YHKjl&_nc_ht=scontent.fuio16-1.fna&tp=14&oh=a448fe41e86dce41088ad07e09510522&oe=602B0BBB', 'likes': 4254, 'comments': 133, '_id': ObjectId('600650b6d4f2e75f136928c9')}\n",
      "Datos guardados facebook ingresados en news base de datos: {'text': '', 'image': 'https://scontent.fuio16-1.fna.fbcdn.net/v/t1.0-9/137050731_10164905068805556_3957542298230629392_n.png?_nc_cat=1&ccb=2&_nc_sid=85a577&_nc_ohc=FvOQaJB4LJMAX-ISVxQ&_nc_ht=scontent.fuio16-1.fna&oh=8a6fb48298e6678f412838da3cf3f52d&oe=602BDA31', 'likes': 23277, 'comments': 393, '_id': ObjectId('600650b6d4f2e75f136928ca')}\n",
      "Datos guardados facebook ingresados en news base de datos: {'text': '👏One👏👏Day!👏\\nJoin us for a first look at what 2021 has to offer across League’s ecosystem. Tune in live on YouTube tomorrow Friday Jan. 8 at 7 AM PST.\\n\\nYOUTUBE.COM\\nSeason 2021 Opening Day | Full Livestream - League of Legends', 'image': None, 'likes': 1468, 'comments': 94, '_id': ObjectId('600650b6d4f2e75f136928cb')}\n",
      "Datos guardados facebook ingresados en news base de datos: {'text': 'Tomorrow: Discover the next chapter.', 'image': 'https://scontent.fuio16-1.fna.fbcdn.net/v/t1.0-9/fr/cp0/e15/q65/137233079_10164900102470556_4504867326320957311_o.jpg?_nc_cat=107&ccb=2&_nc_sid=2d5d41&_nc_ohc=1JkFyJmoAgIAX9Q2nql&_nc_ht=scontent.fuio16-1.fna&tp=14&oh=6ecedada394c897e7668bcf0d665cd56&oe=602BB710', 'likes': 11742, 'comments': 484, '_id': ObjectId('600650b6d4f2e75f136928cc')}\n",
      "Datos guardados facebook ingresados en news base de datos: {'text': \"👀Sneak peek! Tune in live on YouTube on Friday Jan. 8 at 7 AM PST for a first look at what's headed your way in 2021 across League's ecosystem!\", 'image': None, 'likes': 3255, 'comments': 228, '_id': ObjectId('600650b6d4f2e75f136928cd')}\n",
      "Datos guardados facebook ingresados en news base de datos: {'text': 'In 2 days: Find your fate.', 'image': 'https://scontent.fuio16-1.fna.fbcdn.net/v/t1.0-9/fr/cp0/e15/q65/136172268_10164895895540556_6696478331590871023_o.jpg?_nc_cat=104&ccb=2&_nc_sid=2d5d41&_nc_ohc=gPLj6K9zefMAX-bdi-X&_nc_ht=scontent.fuio16-1.fna&tp=14&oh=2fede61206c259a268b744157e6951ef&oe=602AC18F', 'likes': 3881, 'comments': 213, '_id': ObjectId('600650b6d4f2e75f136928ce')}\n",
      "Datos guardados facebook ingresados en news base de datos: {'text': 'Patch 11.1 Highlights! Read the full patch notes here:\\nhttps://riot.com/3naikVT', 'image': 'https://scontent.fuio16-1.fna.fbcdn.net/v/t1.0-9/fr/cp0/e15/q65/135809456_10164892655590556_7286781900183583949_o.jpg?_nc_cat=101&ccb=2&_nc_sid=8024bb&_nc_ohc=vrl2iFY3Y5UAX-7Zqpi&_nc_ht=scontent.fuio16-1.fna&tp=14&oh=96cfe59ecba70aef27f1d908d6d6d68d&oe=602D596C', 'likes': 7830, 'comments': 682, '_id': ObjectId('600650b6d4f2e75f136928cf')}\n",
      "Datos guardados facebook ingresados en news base de datos: {'text': \"A scorching PBE Preview:\\n\\n🔥Shan Hai Cho'Gath\\n🔥Shan Hai Nautilus\\n🔥Shan Hai Neeko\\n🔥Shan Hai Jhin\", 'image': None, 'likes': 5688, 'comments': 1224, '_id': ObjectId('600650b6d4f2e75f136928d0')}\n",
      "Datos guardados facebook ingresados en news base de datos: {'text': 'This PBE Preview is to die for...\\n\\n💀Ruined Karma\\n💀Ruined Draven\\n💀Ruined Shyvana', 'image': None, 'likes': 6051, 'comments': 1382, '_id': ObjectId('600650b6d4f2e75f136928d1')}\n",
      "Datos guardados facebook ingresados en news base de datos: {'text': 'In 3 days: Embark on a wild expedition.', 'image': 'https://scontent.fuio16-1.fna.fbcdn.net/v/t1.0-9/fr/cp0/e15/q65/136069201_10164891649160556_5832900433056204519_o.jpg?_nc_cat=110&ccb=2&_nc_sid=2d5d41&_nc_ohc=Luq8IMVXA1oAX9MvI77&_nc_ht=scontent.fuio16-1.fna&tp=14&oh=c859d53fdb96c9b2039e1cc6eafada11&oe=602A1786', 'likes': 4361, 'comments': 295, '_id': ObjectId('600650b6d4f2e75f136928d2')}\n",
      "Datos guardados facebook ingresados en news base de datos: {'text': 'Season 2021 Opening Day livestream: Jan. 8 at 7 AM PST!', 'image': 'https://scontent.fuio16-1.fna.fbcdn.net/v/t1.0-9/fr/cp0/e15/q65/136076480_10164888133030556_6825464889396973953_o.jpg?_nc_cat=107&ccb=2&_nc_sid=dd9801&_nc_ohc=aNYuGC4gnxoAX8Imkxv&_nc_ht=scontent.fuio16-1.fna&tp=14&oh=64bf4cc680893633823bd720a1e11718&oe=602AA0E9', 'likes': 2233, 'comments': 77, '_id': ObjectId('600650b6d4f2e75f136928d3')}\n",
      "Datos guardados facebook ingresados en news base de datos: {'text': 'In 4 days: See what’s in the cards for 2021.', 'image': 'https://scontent.fuio16-1.fna.fbcdn.net/v/t1.0-9/fr/cp0/e15/q65/136353713_10164887677810556_5530540316866732830_o.jpg?_nc_cat=101&ccb=2&_nc_sid=2d5d41&_nc_ohc=lzIYJz46VyQAX_TCtaj&_nc_ht=scontent.fuio16-1.fna&tp=14&oh=b0b213017c35a098472d40c6aee4012f&oe=602BA058', 'likes': 7383, 'comments': 327, '_id': ObjectId('600650b6d4f2e75f136928d4')}\n",
      "Datos guardados facebook ingresados en news base de datos: {'text': 'In 5 days: Get ready to compete in a new season.', 'image': None, 'likes': 1239, 'comments': 95, '_id': ObjectId('600650b6d4f2e75f136928d5')}\n",
      "Datos guardados facebook ingresados en news base de datos: {'text': 'Season 2021 Opening Day livestream on Jan. 8 at 7 AM PST!', 'image': 'https://scontent.fuio16-1.fna.fbcdn.net/v/t1.0-9/136125793_10164883602730556_2444646107758777160_n.png?_nc_cat=104&ccb=2&_nc_sid=7aed08&_nc_ohc=nuM8n_DWZDAAX_ZMuJJ&_nc_ht=scontent.fuio16-1.fna&oh=1439177c19efff7ccc2f9266d4157d76&oe=602D1D78', 'likes': 16035, 'comments': 443, '_id': ObjectId('600650b6d4f2e75f136928d6')}\n",
      "Datos guardados facebook ingresados en news base de datos: {'text': '📣 Tune in for the Season 2021 Opening Day livestream on Jan. 8 at 7 AM PST!', 'image': 'https://scontent.fuio16-1.fna.fbcdn.net/v/t1.0-9/fr/cp0/e15/q65/134994572_10164883583065556_8828896780398495067_o.jpg?_nc_cat=108&ccb=2&_nc_sid=2d5d41&_nc_ohc=UKj_r4AL7UEAX_MWaZK&_nc_ht=scontent.fuio16-1.fna&tp=14&oh=1a48ccd93df5641a5ff1621ebbbd952c&oe=602B320B', 'likes': 6509, 'comments': 253, '_id': ObjectId('600650b6d4f2e75f136928d7')}\n",
      "Datos guardados facebook ingresados en news base de datos: {'text': \"#HappyNewYear GIF party -- comment with a GIF to celebrate NYE!🥳🎊 And let us know when you've crossed into 2021 in your part of the world!🌏🌍🌎\", 'image': None, 'likes': 1620, 'comments': 169, '_id': ObjectId('600650b6d4f2e75f136928d8')}\n",
      "Datos guardados facebook ingresados en news base de datos: {'text': '', 'image': 'https://scontent.fuio16-1.fna.fbcdn.net/v/t1.0-9/fr/cp0/e15/q65/133830060_10164851625255556_3127708856458137718_n.jpg?_nc_cat=101&ccb=2&_nc_sid=110474&_nc_ohc=31oa4wTAHfIAX-VChYo&_nc_ht=scontent.fuio16-1.fna&tp=14&oh=0fa431bffb186b025c5f788aebcf9bb7&oe=602DBAB8', 'likes': 8249, 'comments': 12513, '_id': ObjectId('600650b6d4f2e75f136928d9')}\n",
      "Datos guardados facebook ingresados en news base de datos: {'text': 'Good times, good friends... what could be better? Happy holidays!', 'image': None, 'likes': 3822, 'comments': 340, '_id': ObjectId('600650b6d4f2e75f136928da')}\n",
      "Datos guardados facebook ingresados en news base de datos: {'text': \"It's time to ride! Songoanda helped us introduce Rell to some other Champs across Runeterra. And they all seem to have something in common...\", 'image': 'https://scontent.fuio16-1.fna.fbcdn.net/v/t1.0-9/fr/cp0/e15/q65/132610357_10164835608225556_1508001938069456830_o.jpg?_nc_cat=106&ccb=2&_nc_sid=8024bb&_nc_ohc=xMbRpE0ACyMAX9TYnZl&_nc_ht=scontent.fuio16-1.fna&tp=14&oh=053427dac644d65369d4f7bc56c5424f&oe=602B5B39', 'likes': 4421, 'comments': 163, '_id': ObjectId('600650b6d4f2e75f136928db')}\n",
      "Datos guardados facebook ingresados en news base de datos: {'text': 'Which is your vibe?☀️❄️\\n#FirstDayOfSummer #FirstDayOfWinter', 'image': 'https://scontent.fuio16-1.fna.fbcdn.net/v/t1.0-9/fr/cp0/e15/q65/132479097_10164828463855556_8527053079413971413_o.jpg?_nc_cat=105&ccb=2&_nc_sid=2d5d41&_nc_ohc=0x_Fbd_AX20AX9_VqWc&_nc_ht=scontent.fuio16-1.fna&tp=14&oh=fd558eb6ae86a02614b1ad3ee7607043&oe=602C1031', 'likes': 7100, 'comments': 433, '_id': ObjectId('600650b6d4f2e75f136928dc')}\n",
      "Datos guardados facebook ingresados en news base de datos: {'text': 'Show this goodest boy some love -- GIFs only!', 'image': None, 'likes': 3384, 'comments': 409, '_id': ObjectId('600650b6d4f2e75f136928dd')}\n",
      "Datos guardados facebook ingresados en news base de datos: {'text': 'Jingle all the way to victory with adorable holiday cards!🔔\\n\\n🎨 @inkiness', 'image': 'https://scontent.fuio16-1.fna.fbcdn.net/v/t1.0-9/fr/cp0/e15/q65/132057307_10164815199110556_8295522727667832322_o.jpg?_nc_cat=102&ccb=2&_nc_sid=8024bb&_nc_ohc=TFfTA6yDYGkAX9guBSF&_nc_oc=AQkf_S6GWvPjUpBsgycbYiQ2QtqG2Pf3C7y-D4LXXmnU27VUdV2TmGi8MvMs-ZoSiPci75qQkpRX3yT0VAcbJiDs&_nc_ht=scontent.fuio16-1.fna&tp=14&oh=01402dc5bd0875b8d2322fc5abc3ab82&oe=602CA612', 'likes': 4714, 'comments': 203, '_id': ObjectId('600650b6d4f2e75f136928de')}\n",
      "Datos guardados facebook ingresados en news base de datos: {'text': 'Together we achieved a lot this year. Thank you <3', 'image': None, 'likes': 11808, 'comments': 647, '_id': ObjectId('600650b6d4f2e75f136928df')}\n",
      "Datos guardados facebook ingresados en news base de datos: {'text': 'Smashing into Monday like', 'image': None, 'likes': 979, 'comments': 74, '_id': ObjectId('600650b6d4f2e75f136928e0')}\n",
      "Datos guardados facebook ingresados en news base de datos: {'text': 'Sound on! Prepare yourself for a superior form of music—the official Battle Queens 2020 Theme.\\n\\nThat’s an order 👑', 'image': None, 'likes': 3882, 'comments': 330, '_id': ObjectId('600650b6d4f2e75f136928e1')}\n",
      "Datos guardados facebook ingresados en news base de datos: {'text': 'Battle Queen Chromas and Battle Queen Diana + her Prestige Edition are here!👑👑👑 Which is your fave?', 'image': None, 'likes': 4082, 'comments': 322, '_id': ObjectId('600650b6d4f2e75f136928e2')}\n",
      "Datos guardados facebook ingresados en news base de datos: {'text': 'Heavy metal jams for a heavy metal champ. Crank up the Rell Champion Theme for your head bangin’ pleasure 🤘', 'image': None, 'likes': 1701, 'comments': 184, '_id': ObjectId('600650b6d4f2e75f136928e3')}\n"
     ]
    }
   ],
   "source": [
    "for x in range(0,len(e)):\n",
    "    data=e[x]\n",
    "    try:\n",
    "        destination = 'facebook'\n",
    "        collection = client[MONGODB_DATABASE][destination]\n",
    "        collection.insert_one(data)\n",
    "        print (\"Datos guardados %s ingresados en %s base de datos: %s\" % (destination, MONGODB_DATABASE, data))\n",
    "    except Exception as error:\n",
    "        print (\"Error al guardar: %s\" % str(error))"
   ]
  },
  {
   "cell_type": "code",
   "execution_count": null,
   "metadata": {},
   "outputs": [],
   "source": []
  }
 ],
 "metadata": {
  "kernelspec": {
   "display_name": "Python 3",
   "language": "python",
   "name": "python3"
  },
  "language_info": {
   "codemirror_mode": {
    "name": "ipython",
    "version": 3
   },
   "file_extension": ".py",
   "mimetype": "text/x-python",
   "name": "python",
   "nbconvert_exporter": "python",
   "pygments_lexer": "ipython3",
   "version": "3.8.0"
  }
 },
 "nbformat": 4,
 "nbformat_minor": 4
}
